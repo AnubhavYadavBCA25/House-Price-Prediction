{
  "cells": [
    {
      "cell_type": "markdown",
      "metadata": {
        "id": "pnXlDHpiaAyV"
      },
      "source": [
        "## (5) Model Training"
      ]
    },
    {
      "cell_type": "markdown",
      "metadata": {
        "id": "l_7Y293iaH8p"
      },
      "source": [
        "### (5.1) Import Relevant Libraries for Model Trainig"
      ]
    },
    {
      "cell_type": "code",
      "execution_count": 33,
      "metadata": {
        "id": "54UqeHTFZ98j"
      },
      "outputs": [],
      "source": [
        "import os\n",
        "import pandas as pd\n",
        "import numpy as np\n",
        "import matplotlib.pyplot as plt\n",
        "import seaborn as sns\n",
        "%matplotlib inline\n",
        "import warnings\n",
        "warnings.filterwarnings('ignore')\n",
        "\n",
        "from sklearn.model_selection import train_test_split\n",
        "from sklearn.preprocessing import StandardScaler\n",
        "from sklearn.linear_model import LinearRegression, Lasso, Ridge\n",
        "from sklearn.tree import DecisionTreeRegressor\n",
        "from sklearn.ensemble import RandomForestRegressor, AdaBoostRegressor\n",
        "from sklearn.svm import SVR\n",
        "from xgboost import XGBRegressor\n",
        "from sklearn.neighbors import KNeighborsRegressor\n",
        "from sklearn.metrics import mean_absolute_error, mean_squared_error, r2_score\n",
        "from sklearn.model_selection import GridSearchCV\n",
        "import joblib"
      ]
    },
    {
      "cell_type": "markdown",
      "metadata": {
        "id": "-m52StlQb4yU"
      },
      "source": [
        "### (5.2) Load Preprocessed Data"
      ]
    },
    {
      "cell_type": "code",
      "execution_count": 3,
      "metadata": {
        "colab": {
          "base_uri": "https://localhost:8080/",
          "height": 255
        },
        "id": "gbBHRdgxb246",
        "outputId": "0f527486-4abf-4d08-f741-02e6d720aae5"
      },
      "outputs": [
        {
          "data": {
            "text/html": [
              "<div>\n",
              "<style scoped>\n",
              "    .dataframe tbody tr th:only-of-type {\n",
              "        vertical-align: middle;\n",
              "    }\n",
              "\n",
              "    .dataframe tbody tr th {\n",
              "        vertical-align: top;\n",
              "    }\n",
              "\n",
              "    .dataframe thead th {\n",
              "        text-align: right;\n",
              "    }\n",
              "</style>\n",
              "<table border=\"1\" class=\"dataframe\">\n",
              "  <thead>\n",
              "    <tr style=\"text-align: right;\">\n",
              "      <th></th>\n",
              "      <th>price</th>\n",
              "      <th>bedrooms</th>\n",
              "      <th>bathrooms</th>\n",
              "      <th>sqft_living</th>\n",
              "      <th>sqft_lot</th>\n",
              "      <th>floors</th>\n",
              "      <th>waterfront</th>\n",
              "      <th>view</th>\n",
              "      <th>condition</th>\n",
              "      <th>grade</th>\n",
              "      <th>...</th>\n",
              "      <th>sqft_basement</th>\n",
              "      <th>yr_built</th>\n",
              "      <th>yr_renovated</th>\n",
              "      <th>lat</th>\n",
              "      <th>long</th>\n",
              "      <th>sqft_living15</th>\n",
              "      <th>sqft_lot15</th>\n",
              "      <th>year</th>\n",
              "      <th>month</th>\n",
              "      <th>house_age</th>\n",
              "    </tr>\n",
              "  </thead>\n",
              "  <tbody>\n",
              "    <tr>\n",
              "      <th>0</th>\n",
              "      <td>221900.0</td>\n",
              "      <td>3</td>\n",
              "      <td>1.00</td>\n",
              "      <td>1180</td>\n",
              "      <td>5650</td>\n",
              "      <td>1.0</td>\n",
              "      <td>0</td>\n",
              "      <td>0</td>\n",
              "      <td>3</td>\n",
              "      <td>7</td>\n",
              "      <td>...</td>\n",
              "      <td>0</td>\n",
              "      <td>1955</td>\n",
              "      <td>0</td>\n",
              "      <td>47.5112</td>\n",
              "      <td>-122.257</td>\n",
              "      <td>1340</td>\n",
              "      <td>5650</td>\n",
              "      <td>2014</td>\n",
              "      <td>10</td>\n",
              "      <td>59</td>\n",
              "    </tr>\n",
              "    <tr>\n",
              "      <th>1</th>\n",
              "      <td>538000.0</td>\n",
              "      <td>3</td>\n",
              "      <td>2.25</td>\n",
              "      <td>2570</td>\n",
              "      <td>7242</td>\n",
              "      <td>2.0</td>\n",
              "      <td>0</td>\n",
              "      <td>0</td>\n",
              "      <td>3</td>\n",
              "      <td>7</td>\n",
              "      <td>...</td>\n",
              "      <td>400</td>\n",
              "      <td>1951</td>\n",
              "      <td>1991</td>\n",
              "      <td>47.7210</td>\n",
              "      <td>-122.319</td>\n",
              "      <td>1690</td>\n",
              "      <td>7639</td>\n",
              "      <td>2014</td>\n",
              "      <td>12</td>\n",
              "      <td>63</td>\n",
              "    </tr>\n",
              "    <tr>\n",
              "      <th>2</th>\n",
              "      <td>180000.0</td>\n",
              "      <td>2</td>\n",
              "      <td>1.00</td>\n",
              "      <td>770</td>\n",
              "      <td>10000</td>\n",
              "      <td>1.0</td>\n",
              "      <td>0</td>\n",
              "      <td>0</td>\n",
              "      <td>3</td>\n",
              "      <td>6</td>\n",
              "      <td>...</td>\n",
              "      <td>0</td>\n",
              "      <td>1933</td>\n",
              "      <td>0</td>\n",
              "      <td>47.7379</td>\n",
              "      <td>-122.233</td>\n",
              "      <td>2720</td>\n",
              "      <td>8062</td>\n",
              "      <td>2015</td>\n",
              "      <td>2</td>\n",
              "      <td>82</td>\n",
              "    </tr>\n",
              "    <tr>\n",
              "      <th>3</th>\n",
              "      <td>604000.0</td>\n",
              "      <td>4</td>\n",
              "      <td>3.00</td>\n",
              "      <td>1960</td>\n",
              "      <td>5000</td>\n",
              "      <td>1.0</td>\n",
              "      <td>0</td>\n",
              "      <td>0</td>\n",
              "      <td>5</td>\n",
              "      <td>7</td>\n",
              "      <td>...</td>\n",
              "      <td>910</td>\n",
              "      <td>1965</td>\n",
              "      <td>0</td>\n",
              "      <td>47.5208</td>\n",
              "      <td>-122.393</td>\n",
              "      <td>1360</td>\n",
              "      <td>5000</td>\n",
              "      <td>2014</td>\n",
              "      <td>12</td>\n",
              "      <td>49</td>\n",
              "    </tr>\n",
              "    <tr>\n",
              "      <th>4</th>\n",
              "      <td>510000.0</td>\n",
              "      <td>3</td>\n",
              "      <td>2.00</td>\n",
              "      <td>1680</td>\n",
              "      <td>8080</td>\n",
              "      <td>1.0</td>\n",
              "      <td>0</td>\n",
              "      <td>0</td>\n",
              "      <td>3</td>\n",
              "      <td>8</td>\n",
              "      <td>...</td>\n",
              "      <td>0</td>\n",
              "      <td>1987</td>\n",
              "      <td>0</td>\n",
              "      <td>47.6168</td>\n",
              "      <td>-122.045</td>\n",
              "      <td>1800</td>\n",
              "      <td>7503</td>\n",
              "      <td>2015</td>\n",
              "      <td>2</td>\n",
              "      <td>28</td>\n",
              "    </tr>\n",
              "  </tbody>\n",
              "</table>\n",
              "<p>5 rows × 21 columns</p>\n",
              "</div>"
            ],
            "text/plain": [
              "      price  bedrooms  bathrooms  sqft_living  sqft_lot  floors  waterfront  \\\n",
              "0  221900.0         3       1.00         1180      5650     1.0           0   \n",
              "1  538000.0         3       2.25         2570      7242     2.0           0   \n",
              "2  180000.0         2       1.00          770     10000     1.0           0   \n",
              "3  604000.0         4       3.00         1960      5000     1.0           0   \n",
              "4  510000.0         3       2.00         1680      8080     1.0           0   \n",
              "\n",
              "   view  condition  grade  ...  sqft_basement  yr_built  yr_renovated  \\\n",
              "0     0          3      7  ...              0      1955             0   \n",
              "1     0          3      7  ...            400      1951          1991   \n",
              "2     0          3      6  ...              0      1933             0   \n",
              "3     0          5      7  ...            910      1965             0   \n",
              "4     0          3      8  ...              0      1987             0   \n",
              "\n",
              "       lat     long  sqft_living15  sqft_lot15  year  month  house_age  \n",
              "0  47.5112 -122.257           1340        5650  2014     10         59  \n",
              "1  47.7210 -122.319           1690        7639  2014     12         63  \n",
              "2  47.7379 -122.233           2720        8062  2015      2         82  \n",
              "3  47.5208 -122.393           1360        5000  2014     12         49  \n",
              "4  47.6168 -122.045           1800        7503  2015      2         28  \n",
              "\n",
              "[5 rows x 21 columns]"
            ]
          },
          "execution_count": 3,
          "metadata": {},
          "output_type": "execute_result"
        }
      ],
      "source": [
        "df = pd.read_csv('data/processed_data.csv')\n",
        "df.head()"
      ]
    },
    {
      "cell_type": "markdown",
      "metadata": {
        "id": "iQsH2j7Mcb6H"
      },
      "source": [
        "### (5.3) Split Dependent and Independent Feature"
      ]
    },
    {
      "cell_type": "code",
      "execution_count": 4,
      "metadata": {
        "id": "PBYRbC1KcGtd"
      },
      "outputs": [],
      "source": [
        "# Input Variable or Independent Features\n",
        "X = df.drop('price', axis=1)\n",
        "\n",
        "# Output Variable or Dependent Feature\n",
        "y = df['price']"
      ]
    },
    {
      "cell_type": "code",
      "execution_count": 5,
      "metadata": {
        "colab": {
          "base_uri": "https://localhost:8080/",
          "height": 443
        },
        "id": "cIVkv0OkdcwM",
        "outputId": "bcfb4818-4190-42e0-a663-b4b43cd6ffb7"
      },
      "outputs": [
        {
          "data": {
            "text/html": [
              "<div>\n",
              "<style scoped>\n",
              "    .dataframe tbody tr th:only-of-type {\n",
              "        vertical-align: middle;\n",
              "    }\n",
              "\n",
              "    .dataframe tbody tr th {\n",
              "        vertical-align: top;\n",
              "    }\n",
              "\n",
              "    .dataframe thead th {\n",
              "        text-align: right;\n",
              "    }\n",
              "</style>\n",
              "<table border=\"1\" class=\"dataframe\">\n",
              "  <thead>\n",
              "    <tr style=\"text-align: right;\">\n",
              "      <th></th>\n",
              "      <th>bedrooms</th>\n",
              "      <th>bathrooms</th>\n",
              "      <th>sqft_living</th>\n",
              "      <th>sqft_lot</th>\n",
              "      <th>floors</th>\n",
              "      <th>waterfront</th>\n",
              "      <th>view</th>\n",
              "      <th>condition</th>\n",
              "      <th>grade</th>\n",
              "      <th>sqft_above</th>\n",
              "      <th>sqft_basement</th>\n",
              "      <th>yr_built</th>\n",
              "      <th>yr_renovated</th>\n",
              "      <th>lat</th>\n",
              "      <th>long</th>\n",
              "      <th>sqft_living15</th>\n",
              "      <th>sqft_lot15</th>\n",
              "      <th>year</th>\n",
              "      <th>month</th>\n",
              "      <th>house_age</th>\n",
              "    </tr>\n",
              "  </thead>\n",
              "  <tbody>\n",
              "    <tr>\n",
              "      <th>0</th>\n",
              "      <td>3</td>\n",
              "      <td>1.00</td>\n",
              "      <td>1180</td>\n",
              "      <td>5650</td>\n",
              "      <td>1.0</td>\n",
              "      <td>0</td>\n",
              "      <td>0</td>\n",
              "      <td>3</td>\n",
              "      <td>7</td>\n",
              "      <td>1180</td>\n",
              "      <td>0</td>\n",
              "      <td>1955</td>\n",
              "      <td>0</td>\n",
              "      <td>47.5112</td>\n",
              "      <td>-122.257</td>\n",
              "      <td>1340</td>\n",
              "      <td>5650</td>\n",
              "      <td>2014</td>\n",
              "      <td>10</td>\n",
              "      <td>59</td>\n",
              "    </tr>\n",
              "    <tr>\n",
              "      <th>1</th>\n",
              "      <td>3</td>\n",
              "      <td>2.25</td>\n",
              "      <td>2570</td>\n",
              "      <td>7242</td>\n",
              "      <td>2.0</td>\n",
              "      <td>0</td>\n",
              "      <td>0</td>\n",
              "      <td>3</td>\n",
              "      <td>7</td>\n",
              "      <td>2170</td>\n",
              "      <td>400</td>\n",
              "      <td>1951</td>\n",
              "      <td>1991</td>\n",
              "      <td>47.7210</td>\n",
              "      <td>-122.319</td>\n",
              "      <td>1690</td>\n",
              "      <td>7639</td>\n",
              "      <td>2014</td>\n",
              "      <td>12</td>\n",
              "      <td>63</td>\n",
              "    </tr>\n",
              "    <tr>\n",
              "      <th>2</th>\n",
              "      <td>2</td>\n",
              "      <td>1.00</td>\n",
              "      <td>770</td>\n",
              "      <td>10000</td>\n",
              "      <td>1.0</td>\n",
              "      <td>0</td>\n",
              "      <td>0</td>\n",
              "      <td>3</td>\n",
              "      <td>6</td>\n",
              "      <td>770</td>\n",
              "      <td>0</td>\n",
              "      <td>1933</td>\n",
              "      <td>0</td>\n",
              "      <td>47.7379</td>\n",
              "      <td>-122.233</td>\n",
              "      <td>2720</td>\n",
              "      <td>8062</td>\n",
              "      <td>2015</td>\n",
              "      <td>2</td>\n",
              "      <td>82</td>\n",
              "    </tr>\n",
              "    <tr>\n",
              "      <th>3</th>\n",
              "      <td>4</td>\n",
              "      <td>3.00</td>\n",
              "      <td>1960</td>\n",
              "      <td>5000</td>\n",
              "      <td>1.0</td>\n",
              "      <td>0</td>\n",
              "      <td>0</td>\n",
              "      <td>5</td>\n",
              "      <td>7</td>\n",
              "      <td>1050</td>\n",
              "      <td>910</td>\n",
              "      <td>1965</td>\n",
              "      <td>0</td>\n",
              "      <td>47.5208</td>\n",
              "      <td>-122.393</td>\n",
              "      <td>1360</td>\n",
              "      <td>5000</td>\n",
              "      <td>2014</td>\n",
              "      <td>12</td>\n",
              "      <td>49</td>\n",
              "    </tr>\n",
              "    <tr>\n",
              "      <th>4</th>\n",
              "      <td>3</td>\n",
              "      <td>2.00</td>\n",
              "      <td>1680</td>\n",
              "      <td>8080</td>\n",
              "      <td>1.0</td>\n",
              "      <td>0</td>\n",
              "      <td>0</td>\n",
              "      <td>3</td>\n",
              "      <td>8</td>\n",
              "      <td>1680</td>\n",
              "      <td>0</td>\n",
              "      <td>1987</td>\n",
              "      <td>0</td>\n",
              "      <td>47.6168</td>\n",
              "      <td>-122.045</td>\n",
              "      <td>1800</td>\n",
              "      <td>7503</td>\n",
              "      <td>2015</td>\n",
              "      <td>2</td>\n",
              "      <td>28</td>\n",
              "    </tr>\n",
              "    <tr>\n",
              "      <th>...</th>\n",
              "      <td>...</td>\n",
              "      <td>...</td>\n",
              "      <td>...</td>\n",
              "      <td>...</td>\n",
              "      <td>...</td>\n",
              "      <td>...</td>\n",
              "      <td>...</td>\n",
              "      <td>...</td>\n",
              "      <td>...</td>\n",
              "      <td>...</td>\n",
              "      <td>...</td>\n",
              "      <td>...</td>\n",
              "      <td>...</td>\n",
              "      <td>...</td>\n",
              "      <td>...</td>\n",
              "      <td>...</td>\n",
              "      <td>...</td>\n",
              "      <td>...</td>\n",
              "      <td>...</td>\n",
              "      <td>...</td>\n",
              "    </tr>\n",
              "    <tr>\n",
              "      <th>21608</th>\n",
              "      <td>3</td>\n",
              "      <td>2.50</td>\n",
              "      <td>1530</td>\n",
              "      <td>1131</td>\n",
              "      <td>3.0</td>\n",
              "      <td>0</td>\n",
              "      <td>0</td>\n",
              "      <td>3</td>\n",
              "      <td>8</td>\n",
              "      <td>1530</td>\n",
              "      <td>0</td>\n",
              "      <td>2009</td>\n",
              "      <td>0</td>\n",
              "      <td>47.6993</td>\n",
              "      <td>-122.346</td>\n",
              "      <td>1530</td>\n",
              "      <td>1509</td>\n",
              "      <td>2014</td>\n",
              "      <td>5</td>\n",
              "      <td>5</td>\n",
              "    </tr>\n",
              "    <tr>\n",
              "      <th>21609</th>\n",
              "      <td>4</td>\n",
              "      <td>2.50</td>\n",
              "      <td>2310</td>\n",
              "      <td>5813</td>\n",
              "      <td>2.0</td>\n",
              "      <td>0</td>\n",
              "      <td>0</td>\n",
              "      <td>3</td>\n",
              "      <td>8</td>\n",
              "      <td>2310</td>\n",
              "      <td>0</td>\n",
              "      <td>2014</td>\n",
              "      <td>0</td>\n",
              "      <td>47.5107</td>\n",
              "      <td>-122.362</td>\n",
              "      <td>1830</td>\n",
              "      <td>7200</td>\n",
              "      <td>2015</td>\n",
              "      <td>2</td>\n",
              "      <td>1</td>\n",
              "    </tr>\n",
              "    <tr>\n",
              "      <th>21610</th>\n",
              "      <td>2</td>\n",
              "      <td>0.75</td>\n",
              "      <td>1020</td>\n",
              "      <td>1350</td>\n",
              "      <td>2.0</td>\n",
              "      <td>0</td>\n",
              "      <td>0</td>\n",
              "      <td>3</td>\n",
              "      <td>7</td>\n",
              "      <td>1020</td>\n",
              "      <td>0</td>\n",
              "      <td>2009</td>\n",
              "      <td>0</td>\n",
              "      <td>47.5944</td>\n",
              "      <td>-122.299</td>\n",
              "      <td>1020</td>\n",
              "      <td>2007</td>\n",
              "      <td>2014</td>\n",
              "      <td>6</td>\n",
              "      <td>5</td>\n",
              "    </tr>\n",
              "    <tr>\n",
              "      <th>21611</th>\n",
              "      <td>3</td>\n",
              "      <td>2.50</td>\n",
              "      <td>1600</td>\n",
              "      <td>2388</td>\n",
              "      <td>2.0</td>\n",
              "      <td>0</td>\n",
              "      <td>0</td>\n",
              "      <td>3</td>\n",
              "      <td>8</td>\n",
              "      <td>1600</td>\n",
              "      <td>0</td>\n",
              "      <td>2004</td>\n",
              "      <td>0</td>\n",
              "      <td>47.5345</td>\n",
              "      <td>-122.069</td>\n",
              "      <td>1410</td>\n",
              "      <td>1287</td>\n",
              "      <td>2015</td>\n",
              "      <td>1</td>\n",
              "      <td>11</td>\n",
              "    </tr>\n",
              "    <tr>\n",
              "      <th>21612</th>\n",
              "      <td>2</td>\n",
              "      <td>0.75</td>\n",
              "      <td>1020</td>\n",
              "      <td>1076</td>\n",
              "      <td>2.0</td>\n",
              "      <td>0</td>\n",
              "      <td>0</td>\n",
              "      <td>3</td>\n",
              "      <td>7</td>\n",
              "      <td>1020</td>\n",
              "      <td>0</td>\n",
              "      <td>2008</td>\n",
              "      <td>0</td>\n",
              "      <td>47.5941</td>\n",
              "      <td>-122.299</td>\n",
              "      <td>1020</td>\n",
              "      <td>1357</td>\n",
              "      <td>2014</td>\n",
              "      <td>10</td>\n",
              "      <td>6</td>\n",
              "    </tr>\n",
              "  </tbody>\n",
              "</table>\n",
              "<p>21613 rows × 20 columns</p>\n",
              "</div>"
            ],
            "text/plain": [
              "       bedrooms  bathrooms  sqft_living  sqft_lot  floors  waterfront  view  \\\n",
              "0             3       1.00         1180      5650     1.0           0     0   \n",
              "1             3       2.25         2570      7242     2.0           0     0   \n",
              "2             2       1.00          770     10000     1.0           0     0   \n",
              "3             4       3.00         1960      5000     1.0           0     0   \n",
              "4             3       2.00         1680      8080     1.0           0     0   \n",
              "...         ...        ...          ...       ...     ...         ...   ...   \n",
              "21608         3       2.50         1530      1131     3.0           0     0   \n",
              "21609         4       2.50         2310      5813     2.0           0     0   \n",
              "21610         2       0.75         1020      1350     2.0           0     0   \n",
              "21611         3       2.50         1600      2388     2.0           0     0   \n",
              "21612         2       0.75         1020      1076     2.0           0     0   \n",
              "\n",
              "       condition  grade  sqft_above  sqft_basement  yr_built  yr_renovated  \\\n",
              "0              3      7        1180              0      1955             0   \n",
              "1              3      7        2170            400      1951          1991   \n",
              "2              3      6         770              0      1933             0   \n",
              "3              5      7        1050            910      1965             0   \n",
              "4              3      8        1680              0      1987             0   \n",
              "...          ...    ...         ...            ...       ...           ...   \n",
              "21608          3      8        1530              0      2009             0   \n",
              "21609          3      8        2310              0      2014             0   \n",
              "21610          3      7        1020              0      2009             0   \n",
              "21611          3      8        1600              0      2004             0   \n",
              "21612          3      7        1020              0      2008             0   \n",
              "\n",
              "           lat     long  sqft_living15  sqft_lot15  year  month  house_age  \n",
              "0      47.5112 -122.257           1340        5650  2014     10         59  \n",
              "1      47.7210 -122.319           1690        7639  2014     12         63  \n",
              "2      47.7379 -122.233           2720        8062  2015      2         82  \n",
              "3      47.5208 -122.393           1360        5000  2014     12         49  \n",
              "4      47.6168 -122.045           1800        7503  2015      2         28  \n",
              "...        ...      ...            ...         ...   ...    ...        ...  \n",
              "21608  47.6993 -122.346           1530        1509  2014      5          5  \n",
              "21609  47.5107 -122.362           1830        7200  2015      2          1  \n",
              "21610  47.5944 -122.299           1020        2007  2014      6          5  \n",
              "21611  47.5345 -122.069           1410        1287  2015      1         11  \n",
              "21612  47.5941 -122.299           1020        1357  2014     10          6  \n",
              "\n",
              "[21613 rows x 20 columns]"
            ]
          },
          "execution_count": 5,
          "metadata": {},
          "output_type": "execute_result"
        }
      ],
      "source": [
        "# Take a look on indepented features (without scaling)\n",
        "X"
      ]
    },
    {
      "cell_type": "code",
      "execution_count": 6,
      "metadata": {
        "colab": {
          "base_uri": "https://localhost:8080/"
        },
        "id": "cPTMF1Kvd1nU",
        "outputId": "be1ba030-3c42-4b53-b621-be01d5e580b7"
      },
      "outputs": [
        {
          "data": {
            "text/plain": [
              "0        221900.0\n",
              "1        538000.0\n",
              "2        180000.0\n",
              "3        604000.0\n",
              "4        510000.0\n",
              "           ...   \n",
              "21608    360000.0\n",
              "21609    400000.0\n",
              "21610    402101.0\n",
              "21611    400000.0\n",
              "21612    325000.0\n",
              "Name: price, Length: 21613, dtype: float64"
            ]
          },
          "execution_count": 6,
          "metadata": {},
          "output_type": "execute_result"
        }
      ],
      "source": [
        "# Take a look on dependent feature\n",
        "y"
      ]
    },
    {
      "cell_type": "markdown",
      "metadata": {
        "id": "x19NYPS_dLpS"
      },
      "source": [
        "### (5.4) Separate Train and Test Data"
      ]
    },
    {
      "cell_type": "code",
      "execution_count": 7,
      "metadata": {
        "colab": {
          "base_uri": "https://localhost:8080/"
        },
        "id": "QIlOAdfjc5QS",
        "outputId": "d75adbaf-5e2f-4dc1-bff7-5fad793631c0"
      },
      "outputs": [
        {
          "name": "stdout",
          "output_type": "stream",
          "text": [
            "(17290, 20)\n",
            "(4323, 20)\n",
            "(17290,)\n",
            "(4323,)\n"
          ]
        }
      ],
      "source": [
        "X_train, X_test, y_train, y_test = train_test_split(X, y, test_size=0.2, random_state=42)\n",
        "\n",
        "# shape of all train and test data varibales\n",
        "print(X_train.shape)\n",
        "print(X_test.shape)\n",
        "print(y_train.shape)\n",
        "print(y_test.shape)"
      ]
    },
    {
      "cell_type": "markdown",
      "metadata": {
        "id": "RUOjtHLwd7yr"
      },
      "source": [
        "### (5.5) Scaling the features"
      ]
    },
    {
      "cell_type": "code",
      "execution_count": 8,
      "metadata": {
        "colab": {
          "base_uri": "https://localhost:8080/"
        },
        "id": "iNgMJRScdvv_",
        "outputId": "bef21a74-08b3-4035-edf6-8fc53d87af22"
      },
      "outputs": [
        {
          "data": {
            "text/plain": [
              "array([[-0.39526335, -0.47445144, -0.32393262, ..., -0.68884041,\n",
              "        -0.50783343, -0.41490958],\n",
              "       [-1.46896378, -1.45258323, -1.18365301, ...,  1.45171507,\n",
              "        -1.15040653,  1.45352058],\n",
              "       [-0.39526335, -1.45258323, -1.09547656, ...,  1.45171507,\n",
              "        -1.47169308,  1.01189163],\n",
              "       ...,\n",
              "       [-0.39526335,  0.50368036,  0.05081729, ..., -0.68884041,\n",
              "         0.77731276, -1.12831019],\n",
              "       [-2.54266422, -1.77862716, -1.8670205 , ..., -0.68884041,\n",
              "        -0.18654689,  0.26451957],\n",
              "       [ 0.67843709,  0.50368036,  1.16404497, ...,  1.45171507,\n",
              "        -1.15040653, -1.16228164]])"
            ]
          },
          "execution_count": 8,
          "metadata": {},
          "output_type": "execute_result"
        }
      ],
      "source": [
        "scaler = StandardScaler()\n",
        "X_train = scaler.fit_transform(X_train)\n",
        "X_test = scaler.transform(X_test)\n",
        "\n",
        "# Take a look on indepented features (with scaling)\n",
        "X_train"
      ]
    },
    {
      "cell_type": "code",
      "execution_count": 9,
      "metadata": {},
      "outputs": [
        {
          "data": {
            "text/plain": [
              "array([[ 0.67843709,  0.17763643, -0.00429299, ..., -0.68884041,\n",
              "         1.09859931, -0.51682395],\n",
              "       [ 1.75213752,  1.15576822,  0.91053768, ..., -0.68884041,\n",
              "         0.45602621, -0.21108084],\n",
              "       [ 0.67843709,  0.50368036,  1.86945657, ..., -0.68884041,\n",
              "         0.45602621, -0.89050998],\n",
              "       ...,\n",
              "       [ 0.67843709,  0.50368036,  0.39690986, ..., -0.68884041,\n",
              "         1.09859931, -1.23022456],\n",
              "       [ 0.67843709, -0.47445144,  0.19410402, ..., -0.68884041,\n",
              "         1.7411724 ,  0.12863374],\n",
              "       [ 0.67843709,  0.50368036,  0.54680982, ..., -0.68884041,\n",
              "         1.7411724 , -1.26419602]])"
            ]
          },
          "execution_count": 9,
          "metadata": {},
          "output_type": "execute_result"
        }
      ],
      "source": [
        "X_test"
      ]
    },
    {
      "cell_type": "markdown",
      "metadata": {
        "id": "TM6_If0xf0G8"
      },
      "source": [
        "## (6) Trainig and Model Selection"
      ]
    },
    {
      "cell_type": "markdown",
      "metadata": {
        "id": "FCntwpCpf-Pw"
      },
      "source": [
        "### (6.1) Create an Evaluate Function to give all metrics after model Training"
      ]
    },
    {
      "cell_type": "code",
      "execution_count": 10,
      "metadata": {
        "id": "HQyf6YLufzKv"
      },
      "outputs": [],
      "source": [
        "def evaluate_model(true, predicted):\n",
        "    mae = mean_absolute_error(true, predicted)\n",
        "    mse = mean_squared_error(true, predicted)\n",
        "    rmse = np.sqrt(mean_squared_error(true, predicted))\n",
        "    r2_square = r2_score(true, predicted)\n",
        "    return mae, mse, rmse, r2_square"
      ]
    },
    {
      "cell_type": "code",
      "execution_count": 13,
      "metadata": {
        "id": "5Bi0KDMMeo-j"
      },
      "outputs": [],
      "source": [
        "models = {\n",
        "    \"Linear Regression\": LinearRegression(),\n",
        "    \"Lasso\": Lasso(),\n",
        "    \"Ridge\": Ridge(),\n",
        "    \"K-Neighbors Regressor\": KNeighborsRegressor(),\n",
        "    \"Decision Tree\": DecisionTreeRegressor(),\n",
        "    \"Random Forest Regressor\": RandomForestRegressor(),\n",
        "    \"XGBRegressor\": XGBRegressor(),\n",
        "    \"AdaBoost Regressor\": AdaBoostRegressor(),\n",
        "    \"SVR\": SVR()\n",
        "}\n",
        "model_list = []\n",
        "r2_list =[]"
      ]
    },
    {
      "cell_type": "code",
      "execution_count": 14,
      "metadata": {
        "colab": {
          "base_uri": "https://localhost:8080/"
        },
        "id": "cvTX-c0YhM5x",
        "outputId": "dd983c22-84c1-4399-a014-64b899278c51"
      },
      "outputs": [
        {
          "name": "stdout",
          "output_type": "stream",
          "text": [
            "Linear Regression\n",
            "Model performance for Training set\n",
            "- Mean Squared Error: 39636046789.5942\n",
            "- Root Mean Squared Error: 199088.0378\n",
            "- Mean Absolute Error: 125291.2964\n",
            "- R2 Score: 0.6966\n",
            "---------------------------------------\n",
            "Model performance for Test set\n",
            "- Mean Squared Error: 45748422978.9126\n",
            "- Root Mean Squared Error: 213888.8098\n",
            "- Mean Absolute Error: 127896.3480\n",
            "- R2 Score: 0.6974\n",
            "========================================\n",
            "\n",
            "\n",
            "Lasso\n",
            "Model performance for Training set\n",
            "- Mean Squared Error: 39629571376.2804\n",
            "- Root Mean Squared Error: 199071.7744\n",
            "- Mean Absolute Error: 125072.5604\n",
            "- R2 Score: 0.6967\n",
            "---------------------------------------\n",
            "Model performance for Test set\n",
            "- Mean Squared Error: 45778183163.4865\n",
            "- Root Mean Squared Error: 213958.3678\n",
            "- Mean Absolute Error: 127642.6476\n",
            "- R2 Score: 0.6972\n",
            "========================================\n",
            "\n",
            "\n",
            "Ridge\n",
            "Model performance for Training set\n",
            "- Mean Squared Error: 39629571475.0717\n",
            "- Root Mean Squared Error: 199071.7747\n",
            "- Mean Absolute Error: 125070.6275\n",
            "- R2 Score: 0.6967\n",
            "---------------------------------------\n",
            "Model performance for Test set\n",
            "- Mean Squared Error: 45778382324.2661\n",
            "- Root Mean Squared Error: 213958.8332\n",
            "- Mean Absolute Error: 127640.9035\n",
            "- R2 Score: 0.6972\n",
            "========================================\n",
            "\n",
            "\n",
            "K-Neighbors Regressor\n",
            "Model performance for Training set\n",
            "- Mean Squared Error: 18972750800.4206\n",
            "- Root Mean Squared Error: 137741.6088\n",
            "- Mean Absolute Error: 76234.2346\n",
            "- R2 Score: 0.8548\n",
            "---------------------------------------\n",
            "Model performance for Test set\n",
            "- Mean Squared Error: 33790535519.7747\n",
            "- Root Mean Squared Error: 183822.0213\n",
            "- Mean Absolute Error: 99293.8980\n",
            "- R2 Score: 0.7765\n",
            "========================================\n",
            "\n",
            "\n",
            "Decision Tree\n",
            "Model performance for Training set\n",
            "- Mean Squared Error: 0.0000\n",
            "- Root Mean Squared Error: 0.0000\n",
            "- Mean Absolute Error: 0.0000\n",
            "- R2 Score: 1.0000\n",
            "---------------------------------------\n",
            "Model performance for Test set\n",
            "- Mean Squared Error: 43116397477.9399\n",
            "- Root Mean Squared Error: 207644.8831\n",
            "- Mean Absolute Error: 104174.3058\n",
            "- R2 Score: 0.7148\n",
            "========================================\n",
            "\n",
            "\n",
            "Random Forest Regressor\n",
            "Model performance for Training set\n",
            "- Mean Squared Error: 2258614656.2778\n",
            "- Root Mean Squared Error: 47524.8846\n",
            "- Mean Absolute Error: 25561.6637\n",
            "- R2 Score: 0.9827\n",
            "---------------------------------------\n",
            "Model performance for Test set\n",
            "- Mean Squared Error: 22769328310.3099\n",
            "- Root Mean Squared Error: 150895.0904\n",
            "- Mean Absolute Error: 73425.4346\n",
            "- R2 Score: 0.8494\n",
            "========================================\n",
            "\n",
            "\n",
            "XGBRegressor\n",
            "Model performance for Training set\n",
            "- Mean Squared Error: 3170032487.1757\n",
            "- Root Mean Squared Error: 56303.0415\n",
            "- Mean Absolute Error: 39754.0332\n",
            "- R2 Score: 0.9757\n",
            "---------------------------------------\n",
            "Model performance for Test set\n",
            "- Mean Squared Error: 19643444894.9317\n",
            "- Root Mean Squared Error: 140155.0745\n",
            "- Mean Absolute Error: 70044.7627\n",
            "- R2 Score: 0.8701\n",
            "========================================\n",
            "\n",
            "\n",
            "AdaBoost Regressor\n",
            "Model performance for Training set\n",
            "- Mean Squared Error: 126012879372.5419\n",
            "- Root Mean Squared Error: 354982.9283\n",
            "- Mean Absolute Error: 327557.2470\n",
            "- R2 Score: 0.0355\n",
            "---------------------------------------\n",
            "Model performance for Test set\n",
            "- Mean Squared Error: 136600717200.7103\n",
            "- Root Mean Squared Error: 369595.3425\n",
            "- Mean Absolute Error: 330311.2886\n",
            "- R2 Score: 0.0964\n",
            "========================================\n",
            "\n",
            "\n",
            "SVR\n",
            "Model performance for Training set\n",
            "- Mean Squared Error: 138049572375.9055\n",
            "- Root Mean Squared Error: 371550.2286\n",
            "- Mean Absolute Error: 219388.7839\n",
            "- R2 Score: -0.0566\n",
            "---------------------------------------\n",
            "Model performance for Test set\n",
            "- Mean Squared Error: 160737620346.6131\n",
            "- Root Mean Squared Error: 400920.9652\n",
            "- Mean Absolute Error: 229282.7237\n",
            "- R2 Score: -0.0632\n",
            "========================================\n",
            "\n",
            "\n"
          ]
        }
      ],
      "source": [
        "for i in range(len(list(models))):\n",
        "    model = list(models.values())[i]\n",
        "    model.fit(X_train, y_train) # Train model\n",
        "\n",
        "    # Make predictions\n",
        "    y_train_pred = model.predict(X_train)\n",
        "    y_test_pred = model.predict(X_test)\n",
        "\n",
        "    # Evaluate Train and Test dataset\n",
        "    model_train_mae, model_train_mse, model_train_rmse, model_train_r2 = evaluate_model(y_train, y_train_pred)\n",
        "\n",
        "    model_test_mae, model_test_mse, model_test_rmse, model_test_r2 = evaluate_model(y_test, y_test_pred)\n",
        "\n",
        "\n",
        "    print(list(models.keys())[i])\n",
        "    model_list.append(list(models.keys())[i])\n",
        "\n",
        "    print('Model performance for Training set')\n",
        "    print(\"- Mean Squared Error: {:.4f}\".format(model_train_mse))\n",
        "    print(\"- Root Mean Squared Error: {:.4f}\".format(model_train_rmse))\n",
        "    print(\"- Mean Absolute Error: {:.4f}\".format(model_train_mae))\n",
        "    print(\"- R2 Score: {:.4f}\".format(model_train_r2))\n",
        "\n",
        "    print('---------------------------------------')\n",
        "\n",
        "    print('Model performance for Test set')\n",
        "    print(\"- Mean Squared Error: {:.4f}\".format(model_test_mse))\n",
        "    print(\"- Root Mean Squared Error: {:.4f}\".format(model_test_rmse))\n",
        "    print(\"- Mean Absolute Error: {:.4f}\".format(model_test_mae))\n",
        "    print(\"- R2 Score: {:.4f}\".format(model_test_r2))\n",
        "    r2_list.append(model_test_r2)\n",
        "\n",
        "    print('='*40)\n",
        "    print('\\n')"
      ]
    },
    {
      "cell_type": "markdown",
      "metadata": {
        "id": "MDB7VIaBiPUC"
      },
      "source": [
        "### (6.2) Result"
      ]
    },
    {
      "cell_type": "code",
      "execution_count": 15,
      "metadata": {
        "colab": {
          "base_uri": "https://localhost:8080/",
          "height": 300
        },
        "id": "mlMTM8LTh6h9",
        "outputId": "e9bebc7a-cd61-4a4c-9ad9-36de88ac84a9"
      },
      "outputs": [
        {
          "data": {
            "text/html": [
              "<div>\n",
              "<style scoped>\n",
              "    .dataframe tbody tr th:only-of-type {\n",
              "        vertical-align: middle;\n",
              "    }\n",
              "\n",
              "    .dataframe tbody tr th {\n",
              "        vertical-align: top;\n",
              "    }\n",
              "\n",
              "    .dataframe thead th {\n",
              "        text-align: right;\n",
              "    }\n",
              "</style>\n",
              "<table border=\"1\" class=\"dataframe\">\n",
              "  <thead>\n",
              "    <tr style=\"text-align: right;\">\n",
              "      <th></th>\n",
              "      <th>Model Name</th>\n",
              "      <th>R2_Score</th>\n",
              "    </tr>\n",
              "  </thead>\n",
              "  <tbody>\n",
              "    <tr>\n",
              "      <th>6</th>\n",
              "      <td>XGBRegressor</td>\n",
              "      <td>0.870063</td>\n",
              "    </tr>\n",
              "    <tr>\n",
              "      <th>5</th>\n",
              "      <td>Random Forest Regressor</td>\n",
              "      <td>0.849386</td>\n",
              "    </tr>\n",
              "    <tr>\n",
              "      <th>3</th>\n",
              "      <td>K-Neighbors Regressor</td>\n",
              "      <td>0.776483</td>\n",
              "    </tr>\n",
              "    <tr>\n",
              "      <th>4</th>\n",
              "      <td>Decision Tree</td>\n",
              "      <td>0.714795</td>\n",
              "    </tr>\n",
              "    <tr>\n",
              "      <th>0</th>\n",
              "      <td>Linear Regression</td>\n",
              "      <td>0.697384</td>\n",
              "    </tr>\n",
              "    <tr>\n",
              "      <th>1</th>\n",
              "      <td>Lasso</td>\n",
              "      <td>0.697188</td>\n",
              "    </tr>\n",
              "    <tr>\n",
              "      <th>2</th>\n",
              "      <td>Ridge</td>\n",
              "      <td>0.697186</td>\n",
              "    </tr>\n",
              "    <tr>\n",
              "      <th>7</th>\n",
              "      <td>AdaBoost Regressor</td>\n",
              "      <td>0.096417</td>\n",
              "    </tr>\n",
              "    <tr>\n",
              "      <th>8</th>\n",
              "      <td>SVR</td>\n",
              "      <td>-0.063243</td>\n",
              "    </tr>\n",
              "  </tbody>\n",
              "</table>\n",
              "</div>"
            ],
            "text/plain": [
              "                Model Name  R2_Score\n",
              "6             XGBRegressor  0.870063\n",
              "5  Random Forest Regressor  0.849386\n",
              "3    K-Neighbors Regressor  0.776483\n",
              "4            Decision Tree  0.714795\n",
              "0        Linear Regression  0.697384\n",
              "1                    Lasso  0.697188\n",
              "2                    Ridge  0.697186\n",
              "7       AdaBoost Regressor  0.096417\n",
              "8                      SVR -0.063243"
            ]
          },
          "execution_count": 15,
          "metadata": {},
          "output_type": "execute_result"
        }
      ],
      "source": [
        "pd.DataFrame(list(zip(model_list, r2_list)), columns=['Model Name', 'R2_Score']).sort_values(by=[\"R2_Score\"],ascending=False)"
      ]
    },
    {
      "cell_type": "markdown",
      "metadata": {
        "id": "UaIGrDJAifki"
      },
      "source": [
        "## XGBoost Regression"
      ]
    },
    {
      "cell_type": "code",
      "execution_count": 16,
      "metadata": {
        "colab": {
          "base_uri": "https://localhost:8080/"
        },
        "id": "z_QvJd1TiW8o",
        "outputId": "edbd695f-7ac7-4d5f-8bb1-99c131908921"
      },
      "outputs": [
        {
          "name": "stdout",
          "output_type": "stream",
          "text": [
            "Accuracy of the model is 87.01%\n"
          ]
        }
      ],
      "source": [
        "xgbr = XGBRegressor()\n",
        "xgbr.fit(X_train, y_train)\n",
        "y_pred = xgbr.predict(X_test)\n",
        "score = r2_score(y_test, y_pred)*100\n",
        "print(f\"Accuracy of the model is {score:.2f}%\")"
      ]
    },
    {
      "cell_type": "code",
      "execution_count": 17,
      "metadata": {
        "colab": {
          "base_uri": "https://localhost:8080/",
          "height": 489
        },
        "id": "1q3IpKdckWBO",
        "outputId": "eddefdd6-1ede-4a58-f715-a051d7ee83ec"
      },
      "outputs": [
        {
          "data": {
            "text/plain": [
              "Text(0.5, 1.0, 'XGBoost Regression Plot')"
            ]
          },
          "execution_count": 17,
          "metadata": {},
          "output_type": "execute_result"
        },
        {
          "data": {
            "image/png": "[encoded data removed]",
            "text/plain": [
              "<Figure size 640x480 with 1 Axes>"
            ]
          },
          "metadata": {},
          "output_type": "display_data"
        }
      ],
      "source": [
        "# plot y_test and y_pred\n",
        "plt.scatter(y_test,y_pred)\n",
        "plt.xlabel('Actual')\n",
        "plt.ylabel('Predicted')\n",
        "plt.title(\"XGBoost Regression Plot\")"
      ]
    },
    {
      "cell_type": "code",
      "execution_count": 18,
      "metadata": {
        "colab": {
          "base_uri": "https://localhost:8080/",
          "height": 482
        },
        "id": "GbYR6a-kk12_",
        "outputId": "019839f6-d0f4-4130-8fc6-63452ae19917"
      },
      "outputs": [
        {
          "data": {
            "text/plain": [
              "<Axes: xlabel='price'>"
            ]
          },
          "execution_count": 18,
          "metadata": {},
          "output_type": "execute_result"
        },
        {
          "data": {
            "image/png": "[encoded data removed]",
            "text/plain": [
              "<Figure size 640x480 with 1 Axes>"
            ]
          },
          "metadata": {},
          "output_type": "display_data"
        }
      ],
      "source": [
        "sns.regplot(x=y_test,y=y_pred,ci=None,color ='red')"
      ]
    },
    {
      "cell_type": "markdown",
      "metadata": {
        "id": "Y2chGX3elApN"
      },
      "source": [
        "### Difference between Actual and Predicted Values"
      ]
    },
    {
      "cell_type": "code",
      "execution_count": 19,
      "metadata": {
        "colab": {
          "base_uri": "https://localhost:8080/",
          "height": 423
        },
        "id": "H4JYKVNTk8NX",
        "outputId": "d3fd278e-42a5-4016-9a2b-335e88b08b0d"
      },
      "outputs": [
        {
          "data": {
            "text/html": [
              "<div>\n",
              "<style scoped>\n",
              "    .dataframe tbody tr th:only-of-type {\n",
              "        vertical-align: middle;\n",
              "    }\n",
              "\n",
              "    .dataframe tbody tr th {\n",
              "        vertical-align: top;\n",
              "    }\n",
              "\n",
              "    .dataframe thead th {\n",
              "        text-align: right;\n",
              "    }\n",
              "</style>\n",
              "<table border=\"1\" class=\"dataframe\">\n",
              "  <thead>\n",
              "    <tr style=\"text-align: right;\">\n",
              "      <th></th>\n",
              "      <th>Actual Value</th>\n",
              "      <th>Predicted Value</th>\n",
              "      <th>Difference</th>\n",
              "    </tr>\n",
              "  </thead>\n",
              "  <tbody>\n",
              "    <tr>\n",
              "      <th>735</th>\n",
              "      <td>365000.0</td>\n",
              "      <td>4.062162e+05</td>\n",
              "      <td>-41216.18750</td>\n",
              "    </tr>\n",
              "    <tr>\n",
              "      <th>2830</th>\n",
              "      <td>865000.0</td>\n",
              "      <td>8.662865e+05</td>\n",
              "      <td>-1286.50000</td>\n",
              "    </tr>\n",
              "    <tr>\n",
              "      <th>4106</th>\n",
              "      <td>1038000.0</td>\n",
              "      <td>1.093808e+06</td>\n",
              "      <td>-55808.37500</td>\n",
              "    </tr>\n",
              "    <tr>\n",
              "      <th>16218</th>\n",
              "      <td>1490000.0</td>\n",
              "      <td>1.702278e+06</td>\n",
              "      <td>-212278.12500</td>\n",
              "    </tr>\n",
              "    <tr>\n",
              "      <th>19964</th>\n",
              "      <td>711000.0</td>\n",
              "      <td>7.586874e+05</td>\n",
              "      <td>-47687.37500</td>\n",
              "    </tr>\n",
              "    <tr>\n",
              "      <th>...</th>\n",
              "      <td>...</td>\n",
              "      <td>...</td>\n",
              "      <td>...</td>\n",
              "    </tr>\n",
              "    <tr>\n",
              "      <th>13674</th>\n",
              "      <td>338000.0</td>\n",
              "      <td>3.468142e+05</td>\n",
              "      <td>-8814.21875</td>\n",
              "    </tr>\n",
              "    <tr>\n",
              "      <th>20377</th>\n",
              "      <td>673000.0</td>\n",
              "      <td>7.145984e+05</td>\n",
              "      <td>-41598.37500</td>\n",
              "    </tr>\n",
              "    <tr>\n",
              "      <th>8805</th>\n",
              "      <td>285000.0</td>\n",
              "      <td>3.219555e+05</td>\n",
              "      <td>-36955.46875</td>\n",
              "    </tr>\n",
              "    <tr>\n",
              "      <th>10168</th>\n",
              "      <td>605000.0</td>\n",
              "      <td>5.898708e+05</td>\n",
              "      <td>15129.18750</td>\n",
              "    </tr>\n",
              "    <tr>\n",
              "      <th>2522</th>\n",
              "      <td>356500.0</td>\n",
              "      <td>3.340715e+05</td>\n",
              "      <td>22428.50000</td>\n",
              "    </tr>\n",
              "  </tbody>\n",
              "</table>\n",
              "<p>4323 rows × 3 columns</p>\n",
              "</div>"
            ],
            "text/plain": [
              "       Actual Value  Predicted Value    Difference\n",
              "735        365000.0     4.062162e+05  -41216.18750\n",
              "2830       865000.0     8.662865e+05   -1286.50000\n",
              "4106      1038000.0     1.093808e+06  -55808.37500\n",
              "16218     1490000.0     1.702278e+06 -212278.12500\n",
              "19964      711000.0     7.586874e+05  -47687.37500\n",
              "...             ...              ...           ...\n",
              "13674      338000.0     3.468142e+05   -8814.21875\n",
              "20377      673000.0     7.145984e+05  -41598.37500\n",
              "8805       285000.0     3.219555e+05  -36955.46875\n",
              "10168      605000.0     5.898708e+05   15129.18750\n",
              "2522       356500.0     3.340715e+05   22428.50000\n",
              "\n",
              "[4323 rows x 3 columns]"
            ]
          },
          "execution_count": 19,
          "metadata": {},
          "output_type": "execute_result"
        }
      ],
      "source": [
        "pred_df=pd.DataFrame({'Actual Value':y_test,'Predicted Value':y_pred,'Difference':y_test-y_pred})\n",
        "pred_df"
      ]
    },
    {
      "cell_type": "markdown",
      "metadata": {
        "id": "9vcrsIArlOJC"
      },
      "source": [
        "## Hyperparameter Tuning on XGBoost Regressor"
      ]
    },
    {
      "cell_type": "code",
      "execution_count": 20,
      "metadata": {
        "colab": {
          "base_uri": "https://localhost:8080/"
        },
        "id": "hN4vwcMTlHFS",
        "outputId": "262a1de2-3953-4f3f-affd-7ec0beb02e6f"
      },
      "outputs": [
        {
          "name": "stdout",
          "output_type": "stream",
          "text": [
            "Best parameters for XGBRegressor: {'learning_rate': 0.1, 'max_depth': 3, 'n_estimators': 1000}\n",
            "Best score for XGBRegressor: 0.899768736421102\n"
          ]
        }
      ],
      "source": [
        "# XGBRegressor\n",
        "xgb = XGBRegressor()\n",
        "xgb_param = {\n",
        "    'n_estimators': [100, 500, 1000],\n",
        "    'max_depth': [3, 5, 7],\n",
        "    'learning_rate': [0.01, 0.1, 0.3]\n",
        "}\n",
        "\n",
        "xgb_grid = GridSearchCV(xgb, xgb_param, cv=5, n_jobs=-1)\n",
        "xgb_grid.fit(X_train, y_train)\n",
        "\n",
        "print(f\"Best parameters for XGBRegressor: {xgb_grid.best_params_}\")\n",
        "print(f\"Best score for XGBRegressor: {xgb_grid.best_score_}\")"
      ]
    },
    {
      "cell_type": "code",
      "execution_count": 21,
      "metadata": {
        "colab": {
          "base_uri": "https://localhost:8080/",
          "height": 248
        },
        "id": "UyyKHd_9n-mB",
        "outputId": "32b80de8-c6c2-4436-b769-3ec66fa2b10c"
      },
      "outputs": [
        {
          "data": {
            "text/html": [
              "<style>#sk-container-id-1 {color: black;}#sk-container-id-1 pre{padding: 0;}#sk-container-id-1 div.sk-toggleable {background-color: white;}#sk-container-id-1 label.sk-toggleable__label {cursor: pointer;display: block;width: 100%;margin-bottom: 0;padding: 0.3em;box-sizing: border-box;text-align: center;}#sk-container-id-1 label.sk-toggleable__label-arrow:before {content: \"▸\";float: left;margin-right: 0.25em;color: #696969;}#sk-container-id-1 label.sk-toggleable__label-arrow:hover:before {color: black;}#sk-container-id-1 div.sk-estimator:hover label.sk-toggleable__label-arrow:before {color: black;}#sk-container-id-1 div.sk-toggleable__content {max-height: 0;max-width: 0;overflow: hidden;text-align: left;background-color: #f0f8ff;}#sk-container-id-1 div.sk-toggleable__content pre {margin: 0.2em;color: black;border-radius: 0.25em;background-color: #f0f8ff;}#sk-container-id-1 input.sk-toggleable__control:checked~div.sk-toggleable__content {max-height: 200px;max-width: 100%;overflow: auto;}#sk-container-id-1 input.sk-toggleable__control:checked~label.sk-toggleable__label-arrow:before {content: \"▾\";}#sk-container-id-1 div.sk-estimator input.sk-toggleable__control:checked~label.sk-toggleable__label {background-color: #d4ebff;}#sk-container-id-1 div.sk-label input.sk-toggleable__control:checked~label.sk-toggleable__label {background-color: #d4ebff;}#sk-container-id-1 input.sk-hidden--visually {border: 0;clip: rect(1px 1px 1px 1px);clip: rect(1px, 1px, 1px, 1px);height: 1px;margin: -1px;overflow: hidden;padding: 0;position: absolute;width: 1px;}#sk-container-id-1 div.sk-estimator {font-family: monospace;background-color: #f0f8ff;border: 1px dotted black;border-radius: 0.25em;box-sizing: border-box;margin-bottom: 0.5em;}#sk-container-id-1 div.sk-estimator:hover {background-color: #d4ebff;}#sk-container-id-1 div.sk-parallel-item::after {content: \"\";width: 100%;border-bottom: 1px solid gray;flex-grow: 1;}#sk-container-id-1 div.sk-label:hover label.sk-toggleable__label {background-color: #d4ebff;}#sk-container-id-1 div.sk-serial::before {content: \"\";position: absolute;border-left: 1px solid gray;box-sizing: border-box;top: 0;bottom: 0;left: 50%;z-index: 0;}#sk-container-id-1 div.sk-serial {display: flex;flex-direction: column;align-items: center;background-color: white;padding-right: 0.2em;padding-left: 0.2em;position: relative;}#sk-container-id-1 div.sk-item {position: relative;z-index: 1;}#sk-container-id-1 div.sk-parallel {display: flex;align-items: stretch;justify-content: center;background-color: white;position: relative;}#sk-container-id-1 div.sk-item::before, #sk-container-id-1 div.sk-parallel-item::before {content: \"\";position: absolute;border-left: 1px solid gray;box-sizing: border-box;top: 0;bottom: 0;left: 50%;z-index: -1;}#sk-container-id-1 div.sk-parallel-item {display: flex;flex-direction: column;z-index: 1;position: relative;background-color: white;}#sk-container-id-1 div.sk-parallel-item:first-child::after {align-self: flex-end;width: 50%;}#sk-container-id-1 div.sk-parallel-item:last-child::after {align-self: flex-start;width: 50%;}#sk-container-id-1 div.sk-parallel-item:only-child::after {width: 0;}#sk-container-id-1 div.sk-dashed-wrapped {border: 1px dashed gray;margin: 0 0.4em 0.5em 0.4em;box-sizing: border-box;padding-bottom: 0.4em;background-color: white;}#sk-container-id-1 div.sk-label label {font-family: monospace;font-weight: bold;display: inline-block;line-height: 1.2em;}#sk-container-id-1 div.sk-label-container {text-align: center;}#sk-container-id-1 div.sk-container {/* jupyter's `normalize.less` sets `[hidden] { display: none; }` but bootstrap.min.css set `[hidden] { display: none !important; }` so we also need the `!important` here to be able to override the default hidden behavior on the sphinx rendered scikit-learn.org. See: https://github.com/scikit-learn/scikit-learn/issues/21755 */display: inline-block !important;position: relative;}#sk-container-id-1 div.sk-text-repr-fallback {display: none;}</style><div id=\"sk-container-id-1\" class=\"sk-top-container\"><div class=\"sk-text-repr-fallback\"><pre>XGBRegressor(base_score=None, booster=None, callbacks=None,\n",
              "             colsample_bylevel=None, colsample_bynode=None,\n",
              "             colsample_bytree=None, device=None, early_stopping_rounds=None,\n",
              "             enable_categorical=False, eval_metric=None, feature_types=None,\n",
              "             gamma=None, grow_policy=None, importance_type=None,\n",
              "             interaction_constraints=None, learning_rate=0.1, max_bin=None,\n",
              "             max_cat_threshold=None, max_cat_to_onehot=None,\n",
              "             max_delta_step=None, max_depth=3, max_leaves=None,\n",
              "             min_child_weight=None, missing=nan, monotone_constraints=None,\n",
              "             multi_strategy=None, n_estimators=1000, n_jobs=None,\n",
              "             num_parallel_tree=None, random_state=None, ...)</pre><b>In a Jupyter environment, please rerun this cell to show the HTML representation or trust the notebook. <br />On GitHub, the HTML representation is unable to render, please try loading this page with nbviewer.org.</b></div><div class=\"sk-container\" hidden><div class=\"sk-item\"><div class=\"sk-estimator sk-toggleable\"><input class=\"sk-toggleable__control sk-hidden--visually\" id=\"sk-estimator-id-1\" type=\"checkbox\" checked><label for=\"sk-estimator-id-1\" class=\"sk-toggleable__label sk-toggleable__label-arrow\">XGBRegressor</label><div class=\"sk-toggleable__content\"><pre>XGBRegressor(base_score=None, booster=None, callbacks=None,\n",
              "             colsample_bylevel=None, colsample_bynode=None,\n",
              "             colsample_bytree=None, device=None, early_stopping_rounds=None,\n",
              "             enable_categorical=False, eval_metric=None, feature_types=None,\n",
              "             gamma=None, grow_policy=None, importance_type=None,\n",
              "             interaction_constraints=None, learning_rate=0.1, max_bin=None,\n",
              "             max_cat_threshold=None, max_cat_to_onehot=None,\n",
              "             max_delta_step=None, max_depth=3, max_leaves=None,\n",
              "             min_child_weight=None, missing=nan, monotone_constraints=None,\n",
              "             multi_strategy=None, n_estimators=1000, n_jobs=None,\n",
              "             num_parallel_tree=None, random_state=None, ...)</pre></div></div></div></div></div>"
            ],
            "text/plain": [
              "XGBRegressor(base_score=None, booster=None, callbacks=None,\n",
              "             colsample_bylevel=None, colsample_bynode=None,\n",
              "             colsample_bytree=None, device=None, early_stopping_rounds=None,\n",
              "             enable_categorical=False, eval_metric=None, feature_types=None,\n",
              "             gamma=None, grow_policy=None, importance_type=None,\n",
              "             interaction_constraints=None, learning_rate=0.1, max_bin=None,\n",
              "             max_cat_threshold=None, max_cat_to_onehot=None,\n",
              "             max_delta_step=None, max_depth=3, max_leaves=None,\n",
              "             min_child_weight=None, missing=nan, monotone_constraints=None,\n",
              "             multi_strategy=None, n_estimators=1000, n_jobs=None,\n",
              "             num_parallel_tree=None, random_state=None, ...)"
            ]
          },
          "execution_count": 21,
          "metadata": {},
          "output_type": "execute_result"
        }
      ],
      "source": [
        "# Implementing the best parameters for XGBRegressor\n",
        "xgb = XGBRegressor(n_estimators=1000, max_depth=3, learning_rate=0.1)\n",
        "xgb.fit(X_train, y_train)"
      ]
    },
    {
      "cell_type": "code",
      "execution_count": 22,
      "metadata": {
        "id": "JGX496lVtu85"
      },
      "outputs": [],
      "source": [
        "# Make predictions\n",
        "y_train_pred = xgb.predict(X_train)\n",
        "y_test_pred = xgb.predict(X_test)"
      ]
    },
    {
      "cell_type": "code",
      "execution_count": 23,
      "metadata": {
        "id": "1y7muUUJtx5H"
      },
      "outputs": [],
      "source": [
        "# Evaluate Train and Test dataset\n",
        "xgb_train_mae, xgb_train_mse, xgb_train_rmse, xgb_train_r2 = evaluate_model(y_train, y_train_pred)\n",
        "\n",
        "xgb_test_mae, xgb_test_mse, xgb_test_rmse, xgb_test_r2 = evaluate_model(y_test, y_test_pred)"
      ]
    },
    {
      "cell_type": "code",
      "execution_count": 24,
      "metadata": {
        "colab": {
          "base_uri": "https://localhost:8080/"
        },
        "id": "3z7yc_grt2bw",
        "outputId": "bc3cb4c9-eb49-4f11-cda4-bf3d27ac68bd"
      },
      "outputs": [
        {
          "name": "stdout",
          "output_type": "stream",
          "text": [
            "XGBRegressor\n",
            "Model performance for Training set\n",
            "- Mean Squared Error: 78086.4390\n",
            "- Root Mean Squared Error: 78086.4390\n",
            "- Mean Absolute Error: 52687.4423\n",
            "- R2 Score: 0.9533\n",
            "---------------------------------------\n",
            "Model performance for Test set\n",
            "- Mean Squared Error: 22163284209.4856\n",
            "- Root Mean Squared Error: 148873.3831\n",
            "- Mean Absolute Error: 70602.4768\n",
            "- R2 Score: 0.8534\n"
          ]
        }
      ],
      "source": [
        "print('XGBRegressor')\n",
        "print('Model performance for Training set')\n",
        "print(\"- Mean Squared Error: {:.4f}\".format(xgb_train_rmse))\n",
        "print(\"- Root Mean Squared Error: {:.4f}\".format(xgb_train_rmse))\n",
        "print(\"- Mean Absolute Error: {:.4f}\".format(xgb_train_mae))\n",
        "print(\"- R2 Score: {:.4f}\".format(xgb_train_r2))\n",
        "\n",
        "print('---------------------------------------')\n",
        "\n",
        "print('Model performance for Test set')\n",
        "print(\"- Mean Squared Error: {:.4f}\".format(xgb_test_mse))\n",
        "print(\"- Root Mean Squared Error: {:.4f}\".format(xgb_test_rmse))\n",
        "print(\"- Mean Absolute Error: {:.4f}\".format(xgb_test_mae))\n",
        "print(\"- R2 Score: {:.4f}\".format(xgb_test_r2))"
      ]
    },
    {
      "cell_type": "code",
      "execution_count": 25,
      "metadata": {
        "colab": {
          "base_uri": "https://localhost:8080/"
        },
        "id": "blD4irE4uIoz",
        "outputId": "d75760a9-b976-4c4a-f4ee-0d1200202f0c"
      },
      "outputs": [
        {
          "name": "stdout",
          "output_type": "stream",
          "text": [
            "Accuracy of the model is 85.34%\n"
          ]
        }
      ],
      "source": [
        "score = r2_score(y_test, y_test_pred)*100\n",
        "print(f\"Accuracy of the model is {score:.2f}%\")"
      ]
    },
    {
      "cell_type": "code",
      "execution_count": 26,
      "metadata": {
        "colab": {
          "base_uri": "https://localhost:8080/",
          "height": 562
        },
        "id": "_I6uqQjUt4z7",
        "outputId": "de40f693-3f0f-44f5-e3f2-e57acc39041d"
      },
      "outputs": [
        {
          "data": {
            "text/plain": [
              "Text(0.5, 1.0, 'Feature Importance')"
            ]
          },
          "execution_count": 26,
          "metadata": {},
          "output_type": "execute_result"
        },
        {
          "data": {
            "image/png": "[encoded data removed]",
            "text/plain": [
              "<Figure size 1000x600 with 1 Axes>"
            ]
          },
          "metadata": {},
          "output_type": "display_data"
        }
      ],
      "source": [
        "# Feature importance\n",
        "plt.figure(figsize=(10,6))\n",
        "feat_importances = pd.Series(xgb.feature_importances_, index=df.drop('price', axis=1).columns)\n",
        "feat_importances.nlargest(20).plot(kind='barh')\n",
        "plt.title('Feature Importance')"
      ]
    },
    {
      "cell_type": "code",
      "execution_count": 27,
      "metadata": {
        "colab": {
          "base_uri": "https://localhost:8080/",
          "height": 423
        },
        "id": "AX-Y840rt8rW",
        "outputId": "3d78938e-15c1-4bfe-af2d-ee8018c7fabd"
      },
      "outputs": [
        {
          "data": {
            "text/html": [
              "<div>\n",
              "<style scoped>\n",
              "    .dataframe tbody tr th:only-of-type {\n",
              "        vertical-align: middle;\n",
              "    }\n",
              "\n",
              "    .dataframe tbody tr th {\n",
              "        vertical-align: top;\n",
              "    }\n",
              "\n",
              "    .dataframe thead th {\n",
              "        text-align: right;\n",
              "    }\n",
              "</style>\n",
              "<table border=\"1\" class=\"dataframe\">\n",
              "  <thead>\n",
              "    <tr style=\"text-align: right;\">\n",
              "      <th></th>\n",
              "      <th>Actual Value</th>\n",
              "      <th>Predicted Value</th>\n",
              "      <th>Difference</th>\n",
              "    </tr>\n",
              "  </thead>\n",
              "  <tbody>\n",
              "    <tr>\n",
              "      <th>735</th>\n",
              "      <td>365000.0</td>\n",
              "      <td>3.908148e+05</td>\n",
              "      <td>-25814.78125</td>\n",
              "    </tr>\n",
              "    <tr>\n",
              "      <th>2830</th>\n",
              "      <td>865000.0</td>\n",
              "      <td>9.157963e+05</td>\n",
              "      <td>-50796.31250</td>\n",
              "    </tr>\n",
              "    <tr>\n",
              "      <th>4106</th>\n",
              "      <td>1038000.0</td>\n",
              "      <td>1.096429e+06</td>\n",
              "      <td>-58428.75000</td>\n",
              "    </tr>\n",
              "    <tr>\n",
              "      <th>16218</th>\n",
              "      <td>1490000.0</td>\n",
              "      <td>2.225812e+06</td>\n",
              "      <td>-735811.50000</td>\n",
              "    </tr>\n",
              "    <tr>\n",
              "      <th>19964</th>\n",
              "      <td>711000.0</td>\n",
              "      <td>7.496503e+05</td>\n",
              "      <td>-38650.31250</td>\n",
              "    </tr>\n",
              "    <tr>\n",
              "      <th>...</th>\n",
              "      <td>...</td>\n",
              "      <td>...</td>\n",
              "      <td>...</td>\n",
              "    </tr>\n",
              "    <tr>\n",
              "      <th>13674</th>\n",
              "      <td>338000.0</td>\n",
              "      <td>3.224224e+05</td>\n",
              "      <td>15577.59375</td>\n",
              "    </tr>\n",
              "    <tr>\n",
              "      <th>20377</th>\n",
              "      <td>673000.0</td>\n",
              "      <td>6.781056e+05</td>\n",
              "      <td>-5105.56250</td>\n",
              "    </tr>\n",
              "    <tr>\n",
              "      <th>8805</th>\n",
              "      <td>285000.0</td>\n",
              "      <td>3.155002e+05</td>\n",
              "      <td>-30500.15625</td>\n",
              "    </tr>\n",
              "    <tr>\n",
              "      <th>10168</th>\n",
              "      <td>605000.0</td>\n",
              "      <td>5.982980e+05</td>\n",
              "      <td>6702.00000</td>\n",
              "    </tr>\n",
              "    <tr>\n",
              "      <th>2522</th>\n",
              "      <td>356500.0</td>\n",
              "      <td>3.266957e+05</td>\n",
              "      <td>29804.34375</td>\n",
              "    </tr>\n",
              "  </tbody>\n",
              "</table>\n",
              "<p>4323 rows × 3 columns</p>\n",
              "</div>"
            ],
            "text/plain": [
              "       Actual Value  Predicted Value    Difference\n",
              "735        365000.0     3.908148e+05  -25814.78125\n",
              "2830       865000.0     9.157963e+05  -50796.31250\n",
              "4106      1038000.0     1.096429e+06  -58428.75000\n",
              "16218     1490000.0     2.225812e+06 -735811.50000\n",
              "19964      711000.0     7.496503e+05  -38650.31250\n",
              "...             ...              ...           ...\n",
              "13674      338000.0     3.224224e+05   15577.59375\n",
              "20377      673000.0     6.781056e+05   -5105.56250\n",
              "8805       285000.0     3.155002e+05  -30500.15625\n",
              "10168      605000.0     5.982980e+05    6702.00000\n",
              "2522       356500.0     3.266957e+05   29804.34375\n",
              "\n",
              "[4323 rows x 3 columns]"
            ]
          },
          "execution_count": 27,
          "metadata": {},
          "output_type": "execute_result"
        }
      ],
      "source": [
        "pred_df_hp =pd.DataFrame({'Actual Value':y_test,'Predicted Value':y_test_pred,'Difference':y_test-y_test_pred})\n",
        "pred_df_hp"
      ]
    },
    {
      "cell_type": "markdown",
      "metadata": {
        "id": "zyUDKzojvFHQ"
      },
      "source": [
        "### Conclusion: XGBoost model is the best model which give better accuracy (87.01%) without Hyperparamter Tuning."
      ]
    },
    {
      "cell_type": "markdown",
      "metadata": {},
      "source": [
        "## Testing on Unseen (new) data"
      ]
    },
    {
      "cell_type": "code",
      "execution_count": 28,
      "metadata": {
        "id": "bXsI4MSxuc5J"
      },
      "outputs": [
        {
          "data": {
            "text/plain": [
              "array([[ 3.00000e+00,  1.00000e+00,  1.18000e+03,  5.65000e+03,\n",
              "         1.00000e+00,  0.00000e+00,  0.00000e+00,  3.00000e+00,\n",
              "         7.00000e+00,  1.18000e+03,  0.00000e+00,  1.95500e+03,\n",
              "         0.00000e+00,  4.75112e+01, -1.22257e+02,  1.34000e+03,\n",
              "         5.65000e+03,  2.01400e+03,  1.00000e+01,  5.90000e+01]])"
            ]
          },
          "execution_count": 28,
          "metadata": {},
          "output_type": "execute_result"
        }
      ],
      "source": [
        "# testing the model on new data\n",
        "new_data = df.drop('price', axis=1).iloc[0].values.reshape(1, -1)\n",
        "new_data"
      ]
    },
    {
      "cell_type": "code",
      "execution_count": 29,
      "metadata": {},
      "outputs": [
        {
          "data": {
            "text/plain": [
              "array([[-0.39526335, -1.45258323, -0.985256  , -0.23556614, -0.91959976,\n",
              "        -0.08499166, -0.30591651, -0.62542567, -0.55868959, -0.73753689,\n",
              "        -0.65631017, -0.54725545, -0.20829394, -0.35491059, -0.30507313,\n",
              "        -0.94376477, -0.25704623, -0.68884041,  1.09859931,  0.53629123]])"
            ]
          },
          "execution_count": 29,
          "metadata": {},
          "output_type": "execute_result"
        }
      ],
      "source": [
        "# scaling the new data\n",
        "new_data = scaler.transform(new_data)\n",
        "new_data"
      ]
    },
    {
      "cell_type": "code",
      "execution_count": 30,
      "metadata": {},
      "outputs": [
        {
          "name": "stdout",
          "output_type": "stream",
          "text": [
            "The price of the house is: 203712.47\n"
          ]
        }
      ],
      "source": [
        "# Predicting the price of the house\n",
        "price = xgb.predict(new_data)\n",
        "print(f\"The price of the house is: {price[0]:.2f}\")"
      ]
    },
    {
      "cell_type": "code",
      "execution_count": 31,
      "metadata": {},
      "outputs": [
        {
          "name": "stdout",
          "output_type": "stream",
          "text": [
            "The actual price of the house is: 221900.00\n",
            "The difference between actual and predicted price is: 18187.53\n"
          ]
        }
      ],
      "source": [
        "# Actual price of the house\n",
        "actual_price = df['price'].iloc[0]\n",
        "print(f\"The actual price of the house is: {actual_price:.2f}\")\n",
        "\n",
        "# Difference between actual and predicted price\n",
        "difference = actual_price - price[0]\n",
        "print(f\"The difference between actual and predicted price is: {difference:.2f}\")"
      ]
    },
    {
      "cell_type": "markdown",
      "metadata": {},
      "source": [
        "## Saving the Model and Transformer"
      ]
    },
    {
      "cell_type": "code",
      "execution_count": 36,
      "metadata": {},
      "outputs": [
        {
          "name": "stdout",
          "output_type": "stream",
          "text": [
            "Model and Scaler are saved successfully!\n"
          ]
        }
      ],
      "source": [
        "# Save the model\n",
        "# make artifacts directory outside of the notebook folder to save the model and scaler\n",
        "if not os.path.exists('../artifacts'):\n",
        "    os.makedirs('../artifacts')\n",
        "\n",
        "joblib.dump(xgb, '../artifacts/xgb_model.pkl')\n",
        "joblib.dump(scaler, '../artifacts/scaler.pkl')\n",
        "\n",
        "print(\"Model and Scaler are saved successfully!\")"
      ]
    },
    {
      "cell_type": "code",
      "execution_count": null,
      "metadata": {},
      "outputs": [],
      "source": []
    }
  ],
  "metadata": {
    "accelerator": "GPU",
    "colab": {
      "gpuType": "T4",
      "provenance": []
    },
    "kernelspec": {
      "display_name": "Python 3",
      "name": "python3"
    },
    "language_info": {
      "codemirror_mode": {
        "name": "ipython",
        "version": 3
      },
      "file_extension": ".py",
      "mimetype": "text/x-python",
      "name": "python",
      "nbconvert_exporter": "python",
      "pygments_lexer": "ipython3",
      "version": "3.8.19"
    }
  },
  "nbformat": 4,
  "nbformat_minor": 0
}
